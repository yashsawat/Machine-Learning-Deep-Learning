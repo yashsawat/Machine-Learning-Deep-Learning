{
 "cells": [
  {
   "cell_type": "code",
   "execution_count": null,
   "id": "126fe97e",
   "metadata": {
    "execution": {
     "iopub.execute_input": "2024-02-05T02:35:20.462301Z",
     "iopub.status.busy": "2024-02-05T02:35:20.461972Z",
     "iopub.status.idle": "2024-02-05T02:35:35.534375Z",
     "shell.execute_reply": "2024-02-05T02:35:35.533181Z"
    },
    "papermill": {
     "duration": 15.078354,
     "end_time": "2024-02-05T02:35:35.536618",
     "exception": false,
     "start_time": "2024-02-05T02:35:20.458264",
     "status": "completed"
    },
    "tags": []
   },
   "outputs": [],
   "source": [
    "pip install ultralytics"
   ]
  },
  {
   "cell_type": "code",
   "execution_count": null,
   "id": "e96189fb",
   "metadata": {
    "execution": {
     "iopub.execute_input": "2024-02-05T02:35:35.546260Z",
     "iopub.status.busy": "2024-02-05T02:35:35.545926Z",
     "iopub.status.idle": "2024-02-05T02:35:47.716480Z",
     "shell.execute_reply": "2024-02-05T02:35:47.715168Z"
    },
    "papermill": {
     "duration": 12.178088,
     "end_time": "2024-02-05T02:35:47.719030",
     "exception": false,
     "start_time": "2024-02-05T02:35:35.540942",
     "status": "completed"
    },
    "tags": []
   },
   "outputs": [],
   "source": [
    "pip install wandb"
   ]
  },
  {
   "cell_type": "code",
   "execution_count": null,
   "id": "c84c86e6",
   "metadata": {
    "execution": {
     "iopub.execute_input": "2024-02-05T02:35:47.729992Z",
     "iopub.status.busy": "2024-02-05T02:35:47.729620Z",
     "iopub.status.idle": "2024-02-05T02:35:50.654698Z",
     "shell.execute_reply": "2024-02-05T02:35:50.653780Z"
    },
    "papermill": {
     "duration": 2.932867,
     "end_time": "2024-02-05T02:35:50.656651",
     "exception": false,
     "start_time": "2024-02-05T02:35:47.723784",
     "status": "completed"
    },
    "tags": []
   },
   "outputs": [],
   "source": [
    "import wandb\n",
    "\n",
    "from kaggle_secrets import UserSecretsClient\n",
    "\n",
    "user_secrets = UserSecretsClient()\n",
    "\n",
    "my_secret = user_secrets.get_secret(\"wandb_api_key\") \n",
    "\n",
    "wandb.login(key=my_secret)"
   ]
  },
  {
   "cell_type": "code",
   "execution_count": 4,
   "id": "813f9120",
   "metadata": {
    "execution": {
     "iopub.execute_input": "2024-02-05T02:35:50.667406Z",
     "iopub.status.busy": "2024-02-05T02:35:50.667084Z",
     "iopub.status.idle": "2024-02-05T02:35:59.231553Z",
     "shell.execute_reply": "2024-02-05T02:35:59.230562Z"
    },
    "papermill": {
     "duration": 8.572477,
     "end_time": "2024-02-05T02:35:59.234009",
     "exception": false,
     "start_time": "2024-02-05T02:35:50.661532",
     "status": "completed"
    },
    "tags": []
   },
   "outputs": [],
   "source": [
    "import os\n",
    "\n",
    "from ultralytics import YOLO"
   ]
  },
  {
   "cell_type": "code",
   "execution_count": 5,
   "id": "feb4c259",
   "metadata": {
    "execution": {
     "iopub.execute_input": "2024-02-05T02:35:59.245891Z",
     "iopub.status.busy": "2024-02-05T02:35:59.245133Z",
     "iopub.status.idle": "2024-02-05T02:35:59.990800Z",
     "shell.execute_reply": "2024-02-05T02:35:59.989945Z"
    },
    "papermill": {
     "duration": 0.753931,
     "end_time": "2024-02-05T02:35:59.993161",
     "exception": false,
     "start_time": "2024-02-05T02:35:59.239230",
     "status": "completed"
    },
    "tags": []
   },
   "outputs": [],
   "source": [
    "model=YOLO(\"yolov8s.yaml\") "
   ]
  },
  {
   "cell_type": "code",
   "execution_count": null,
   "id": "58314d88",
   "metadata": {
    "execution": {
     "iopub.execute_input": "2024-02-05T02:36:00.004813Z",
     "iopub.status.busy": "2024-02-05T02:36:00.004527Z",
     "iopub.status.idle": "2024-02-05T07:33:25.649682Z",
     "shell.execute_reply": "2024-02-05T07:33:25.648453Z"
    },
    "papermill": {
     "duration": 17845.653959,
     "end_time": "2024-02-05T07:33:25.652614",
     "exception": false,
     "start_time": "2024-02-05T02:35:59.998655",
     "status": "completed"
    },
    "tags": []
   },
   "outputs": [],
   "source": [
    "results = model.train(data=\"/kaggle/input/grapes-yolo/yaml-editor-online (4).yaml\", epochs=600,patience=0,)"
   ]
  }
 ],
 "metadata": {
  "kaggle": {
   "accelerator": "nvidiaTeslaT4",
   "dataSources": [
    {
     "datasetId": 4394100,
     "sourceId": 7545579,
     "sourceType": "datasetVersion"
    }
   ],
   "isGpuEnabled": true,
   "isInternetEnabled": true,
   "language": "python",
   "sourceType": "notebook"
  },
  "kernelspec": {
   "display_name": "Python 3",
   "language": "python",
   "name": "python3"
  },
  "language_info": {
   "codemirror_mode": {
    "name": "ipython",
    "version": 3
   },
   "file_extension": ".py",
   "mimetype": "text/x-python",
   "name": "python",
   "nbconvert_exporter": "python",
   "pygments_lexer": "ipython3",
   "version": "3.10.13"
  },
  "papermill": {
   "default_parameters": {},
   "duration": 17897.305095,
   "end_time": "2024-02-05T07:33:34.839983",
   "environment_variables": {},
   "exception": null,
   "input_path": "__notebook__.ipynb",
   "output_path": "__notebook__.ipynb",
   "parameters": {},
   "start_time": "2024-02-05T02:35:17.534888",
   "version": "2.5.0"
  }
 },
 "nbformat": 4,
 "nbformat_minor": 5
}
